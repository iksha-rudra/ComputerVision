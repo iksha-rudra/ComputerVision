{
 "cells": [
  {
   "cell_type": "code",
   "execution_count": 41,
   "metadata": {},
   "outputs": [],
   "source": [
    "import numpy as np\n",
    "import math"
   ]
  },
  {
   "cell_type": "code",
   "execution_count": 42,
   "id": "3d1ccf54",
   "metadata": {},
   "outputs": [],
   "source": [
    "class GradientDescent:\n",
    "    def __init__(self):\n",
    "        self.eeta = 0.5\n",
    "        self.ephsilon = 1\n",
    "        self.x = 2\n",
    "        self.y = 3\n",
    "        pass\n",
    "    def set_cost_fn(self,fn):\n",
    "        self.cost_fn = fn\n",
    "    def norm2(self,x,y):\n",
    "        return math.sqrt(x*x+y*y)\n",
    "    def do_optimise(self,iterations):\n",
    "        for i in range(iterations):\n",
    "            temp1, temp2 = self.cost_fn(self,self.x,self.y)\n",
    "            print(\"temp1: \", temp1)\n",
    "            print(\"temp2: \", temp2)\n",
    "            norm = self.norm2(temp1,temp2)\n",
    "            print(\"norm: \",norm)\n",
    "            if norm < self.ephsilon:\n",
    "                break\n",
    "            self.x = self.x - self.eeta*temp1\n",
    "            self.y = self.y - self.eeta*temp2\n",
    "            self.display()\n",
    "        self.display()\n",
    "    def display(self):\n",
    "        print(\"x: \",self.x)\n",
    "        print(\"y: \",self.y)"
   ]
  },
  {
   "cell_type": "code",
   "execution_count": 43,
   "id": "4af4f404",
   "metadata": {},
   "outputs": [],
   "source": [
    "# def cost_fn(self,x,y):\n",
    "#     return 8*x - 4*y, 4*y - 4*x\n",
    "def cost_fn(self,x,y):\n",
    "    return 7 - x - 3*y, 7 - 3*x - 9*y\n"
   ]
  },
  {
   "cell_type": "code",
   "execution_count": null,
   "id": "d2a2ea77",
   "metadata": {},
   "outputs": [],
   "source": [
    "gD = GradientDescent()\n",
    "gD.set_cost_fn(cost_fn)\n",
    "gD.do_optimise(30)"
   ]
  }
 ],
 "metadata": {
  "interpreter": {
   "hash": "9a3a44efe59aba1612e9d69da4169709e98b542788faf389a238cb5cd4d1ad1d"
  },
  "kernelspec": {
   "display_name": "Python 3.8.6 ('ml')",
   "language": "python",
   "name": "python3"
  },
  "language_info": {
   "codemirror_mode": {
    "name": "ipython",
    "version": 3
   },
   "file_extension": ".py",
   "mimetype": "text/x-python",
   "name": "python",
   "nbconvert_exporter": "python",
   "pygments_lexer": "ipython3",
   "version": "3.8.6"
  }
 },
 "nbformat": 4,
 "nbformat_minor": 5
}
