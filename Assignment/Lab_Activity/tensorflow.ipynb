{
 "cells": [
  {
   "cell_type": "code",
   "execution_count": null,
   "metadata": {
    "colab": {
     "base_uri": "https://localhost:8080/"
    },
    "id": "M2QTObPBm0lD",
    "outputId": "e1563084-33b3-4afa-cc33-a561d3980622"
   },
   "outputs": [],
   "source": [
    "import tensorflow as tf\n",
    "\n",
    "# Initialize two constants\n",
    "x1 = tf.constant([1,2,3,4])\n",
    "x2 = tf.constant([5,6,7,8])\n",
    "\n",
    "# Multiply\n",
    "result = tf.multiply(x1, x2)\n",
    "\n",
    "# Print the result\n",
    "print(result)"
   ]
  },
  {
   "cell_type": "code",
   "execution_count": null,
   "metadata": {
    "id": "KZePG4Vg4CnX"
   },
   "outputs": [],
   "source": [
    "from tensorflow import keras\n",
    "import numpy as np\n",
    "from sklearn import datasets\n",
    "from sklearn.model_selection import train_test_split\n",
    "from sklearn.preprocessing import OneHotEncoder #LabelBinariser\n",
    "from tensorflow.keras.models import Sequential,Model\n",
    "from tensorflow.keras.layers import Input,Dense\n",
    "\n",
    "# import some data to play with\n",
    "iris = datasets.load_iris()\n",
    "X = iris.data[:, :]\n",
    "y = iris.target\n",
    "\n",
    "print(y)\n",
    "y = y.reshape((len(y),-1))\n",
    "print(y)\n",
    "\n",
    "encoder = OneHotEncoder(sparse=False)\n",
    "Y = encoder.fit_transform(y)\n",
    "\n",
    "print(Y)\n"
   ]
  },
  {
   "cell_type": "code",
   "execution_count": null,
   "metadata": {
    "colab": {
     "background_save": true,
     "base_uri": "https://localhost:8080/",
     "height": 827
    },
    "id": "16WU0b_svzAJ",
    "outputId": "04d41e55-50ab-43f5-d9a5-8ef5266bed5e"
   },
   "outputs": [],
   "source": [
    "X_train, X_test, y_train, y_test = train_test_split(X, Y, test_size=0.33, random_state=42)\n",
    "\n",
    "tf.random.set_seed(42)\n",
    "\n",
    "'''\n",
    "model = Sequential([                  \n",
    " Input((4)),\n",
    " Dense(100, activation='relu'),\n",
    " Dense(50, activation='relu'),\n",
    " Dense(3, activation='softmax')\n",
    "])\n",
    "\n",
    "'''\n",
    "model = Sequential()\n",
    "model.add(Dense(100, activation='relu', input_shape = (4,)))\n",
    "model.add(Dense(50, activation='relu'))\n",
    "model.add(Dense(3, activation='softmax'))\n",
    "\n",
    "'''\n",
    "input = Input(shape=(4,))\n",
    "x = Dense(100, activation='relu', input_shape = (4,))(input)\n",
    "x = Dense(50, activation='relu')(x)\n",
    "output = Dense(3, activation='softmax')(x)\n",
    "model = Model(input, output )\n",
    "'''\n",
    "\n",
    "tf.keras.utils.plot_model(model, show_shapes=True)"
   ]
  },
  {
   "cell_type": "code",
   "execution_count": null,
   "metadata": {},
   "outputs": [],
   "source": []
  },
  {
   "cell_type": "code",
   "execution_count": null,
   "metadata": {
    "id": "ulskK3Nj7RvN"
   },
   "outputs": [],
   "source": [
    "model.compile(optimizer='sgd',loss=\"categorical_crossentropy\",metrics=['accuracy'])\n",
    "\n",
    "model.summary()\n",
    "\n",
    "model.fit(X_train,y_train,epochs=100,batch_size=16)\n",
    "model.evaluate(X_test,y_test)"
   ]
  },
  {
   "cell_type": "code",
   "execution_count": null,
   "metadata": {
    "colab": {
     "base_uri": "https://localhost:8080/"
    },
    "id": "DTxWEnSI5AZR",
    "outputId": "74521aa9-dd03-440d-e0e3-af8b614f0b60"
   },
   "outputs": [],
   "source": [
    "y_pred  = np.argmax(model(X_test), axis =-1)\n",
    "print(y_pred)\n",
    "\n",
    "y_true =  np.argmax(y_test, axis =-1)\n",
    "print(y_true)"
   ]
  },
  {
   "cell_type": "code",
   "execution_count": null,
   "metadata": {
    "colab": {
     "base_uri": "https://localhost:8080/"
    },
    "id": "xcuLDmVJ4QEs",
    "outputId": "51625e5c-50d1-475e-858e-f60c68658269"
   },
   "outputs": [],
   "source": []
  },
  {
   "cell_type": "code",
   "execution_count": null,
   "metadata": {
    "colab": {
     "base_uri": "https://localhost:8080/"
    },
    "id": "ICL8Ur-j5C16",
    "outputId": "3846d5d3-0132-415b-c8ec-9d0d5ff71a99"
   },
   "outputs": [],
   "source": [
    "from sklearn.metrics import confusion_matrix, classification_report\n",
    "cm = confusion_matrix(y_true, y_pred)\n",
    "print(cm)\n",
    "cr = classification_report(y_true, y_pred)\n",
    "print(cr)"
   ]
  },
  {
   "cell_type": "code",
   "execution_count": null,
   "metadata": {
    "colab": {
     "base_uri": "https://localhost:8080/",
     "height": 282
    },
    "id": "BkltjPTK7IRr",
    "outputId": "eae4a11f-4e6b-4978-9e66-1f25355ab827"
   },
   "outputs": [],
   "source": [
    "import seaborn as sns\n",
    "sns.heatmap(cm,cmap='Greens', annot=True,xticklabels=iris.target_names,yticklabels=iris.target_names)"
   ]
  },
  {
   "cell_type": "code",
   "execution_count": null,
   "metadata": {
    "id": "SlsuX9OX7bU_"
   },
   "outputs": [],
   "source": []
  }
 ],
 "metadata": {
  "colab": {
   "collapsed_sections": [],
   "name": "tensorflow.ipynb",
   "provenance": []
  },
  "interpreter": {
   "hash": "9a3a44efe59aba1612e9d69da4169709e98b542788faf389a238cb5cd4d1ad1d"
  },
  "kernelspec": {
   "display_name": "Python 3 (ipykernel)",
   "language": "python",
   "name": "python3"
  },
  "language_info": {
   "codemirror_mode": {
    "name": "ipython",
    "version": 3
   },
   "file_extension": ".py",
   "mimetype": "text/x-python",
   "name": "python",
   "nbconvert_exporter": "python",
   "pygments_lexer": "ipython3",
   "version": "3.8.6"
  }
 },
 "nbformat": 4,
 "nbformat_minor": 1
}
